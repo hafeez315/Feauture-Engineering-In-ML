{
 "cells": [
  {
   "cell_type": "code",
   "execution_count": null,
   "id": "f3a77bf0-8bb2-452d-8c3f-1d69e6f250fe",
   "metadata": {},
   "outputs": [],
   "source": [
    "import pandas as pd \n",
    "import numpy as np"
   ]
  },
  {
   "cell_type": "code",
   "execution_count": null,
   "id": "b4dd6052-9144-44c0-850e-e670af125c97",
   "metadata": {},
   "outputs": [],
   "source": [
    "from sklearn.model_selection import train_test_split\n",
    "from sklearn.impute import SimpleImputer\n",
    "from sklearn.preprocessing import OneHotEncoder\n",
    "from sklearn.preprocessing import MinMaxScaler\n",
    "from sklearn.tree import DecisionTreeClassifier\n",
    "from sklearn.composer import ColumnTransfomer"
   ]
  },
  {
   "cell_type": "code",
   "execution_count": null,
   "id": "3dca19fb-d127-45b5-a11a-ee211e5dea1c",
   "metadata": {},
   "outputs": [],
   "source": [
    "transformers=ColumnsTransformer(transformers=[\n",
    "    ('trns1' , OneHotEncoder(sparse_output=False , first='drop'), "
   ]
  }
 ],
 "metadata": {
  "kernelspec": {
   "display_name": "Python 3 (ipykernel)",
   "language": "python",
   "name": "python3"
  },
  "language_info": {
   "codemirror_mode": {
    "name": "ipython",
    "version": 3
   },
   "file_extension": ".py",
   "mimetype": "text/x-python",
   "name": "python",
   "nbconvert_exporter": "python",
   "pygments_lexer": "ipython3",
   "version": "3.12.4"
  }
 },
 "nbformat": 4,
 "nbformat_minor": 5
}
